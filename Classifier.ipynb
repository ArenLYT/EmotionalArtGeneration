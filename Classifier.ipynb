{
 "cells": [
  {
   "cell_type": "code",
   "execution_count": null,
   "id": "481c974c",
   "metadata": {},
   "outputs": [],
   "source": [
    "from fastai.data.all import *\n",
    "from fastai.vision.all import *\n",
    "import fastai\n",
    "import pandas as pd\n",
    "import statistics\n",
    "import matplotlib.pyplot as plt"
   ]
  },
  {
   "cell_type": "code",
   "execution_count": null,
   "id": "95c9797a",
   "metadata": {},
   "outputs": [],
   "source": [
    "df=pd.read_csv('ArtEmisv1.csv')\n",
    "df"
   ]
  },
  {
   "cell_type": "code",
   "execution_count": null,
   "id": "2bcec6fb",
   "metadata": {},
   "outputs": [],
   "source": [
    "def modo(x):\n",
    "    if  x.value_counts()[0]>=sum(x.value_counts())*1.0 :\n",
    "        return pd.Series.mode(x)\n",
    "    else:\n",
    "        return x.value_counts()[:3].index.tolist()"
   ]
  },
  {
   "cell_type": "code",
   "execution_count": null,
   "id": "54e544fe",
   "metadata": {},
   "outputs": [],
   "source": [
    "def emtype(x):\n",
    "    if x.emotion=='sadness':\n",
    "        return \"negative\"\n",
    "    elif x.emotion=='fear':\n",
    "        return \"negative\"\n",
    "    elif x.emotion=='disgust':\n",
    "        return \"negative\"\n",
    "    elif x.emotion=='anger':\n",
    "        return \"negative\"\n",
    "    elif x.emotion=='contentment':\n",
    "        return \"positive\"\n",
    "    elif x.emotion=='awe':\n",
    "        return \"positive\"\n",
    "    elif x.emotion=='amusement':\n",
    "        return \"positive\"\n",
    "    elif x.emotion=='excitement':\n",
    "        return \"positive\"\n",
    "    else:\n",
    "        return \"something else\"\n",
    "    "
   ]
  },
  {
   "cell_type": "code",
   "execution_count": null,
   "id": "bbb5ab7c",
   "metadata": {},
   "outputs": [],
   "source": [
    "dfemo=df\n",
    "dfemo['emotype']= dfemo.apply(emtype,axis=1)\n",
    "dfemo"
   ]
  },
  {
   "cell_type": "code",
   "execution_count": null,
   "id": "08707962",
   "metadata": {},
   "outputs": [],
   "source": [
    "#dfemo=dfemo.groupby([\"art_style\",\"painting\"])[\"emotion\"].agg(modo).reset_index()\n",
    "#dfemo"
   ]
  },
  {
   "cell_type": "code",
   "execution_count": null,
   "id": "bf5ec660",
   "metadata": {},
   "outputs": [],
   "source": [
    "dfemo=dfemo.groupby([\"art_style\",\"painting\"])[\"emotype\"].agg(modo).reset_index()\n",
    "dfemo"
   ]
  },
  {
   "cell_type": "code",
   "execution_count": null,
   "id": "6d532f7c",
   "metadata": {},
   "outputs": [],
   "source": [
    "t=type(dfemo.emotype[0])\n",
    "dfemo=dfemo[dfemo[\"emotype\"].apply(lambda x: type(x) !=t )].reset_index()\n",
    "dfemo = dfemo.drop('index', axis=1)\n",
    "dfemo"
   ]
  },
  {
   "cell_type": "code",
   "execution_count": null,
   "id": "79ccce93",
   "metadata": {},
   "outputs": [],
   "source": [
    "dfemo=dfemo[dfemo.emotype!=\"something else\"].reset_index()\n",
    "dfemo = dfemo.drop('index', axis=1)\n",
    "dfemo"
   ]
  },
  {
   "cell_type": "code",
   "execution_count": null,
   "id": "2bd2c013",
   "metadata": {},
   "outputs": [],
   "source": [
    "dfemo['path']= dfemo.apply(lambda x: 'dataset\\\\wikiart\\\\'+x['art_style']+\"\\\\\"+ x['painting']+\".jpg\", axis=1)\n",
    "dfemo"
   ]
  },
  {
   "cell_type": "code",
   "execution_count": null,
   "id": "ad83664b",
   "metadata": {
    "scrolled": false
   },
   "outputs": [],
   "source": [
    "plt.figure(figsize=(10,10))\n",
    "plt.hist(dfemo.emotype,bins=range(0,3), rwidth=0.8,align=\"left\")\n",
    "plt.title('Histogram of Classes')"
   ]
  },
  {
   "cell_type": "code",
   "execution_count": null,
   "id": "ec49b38a",
   "metadata": {},
   "outputs": [],
   "source": [
    "frac=1-(dfemo.emotype.value_counts()[1]/dfemo.emotype.value_counts()[0])"
   ]
  },
  {
   "cell_type": "code",
   "execution_count": null,
   "id": "077ddf97",
   "metadata": {},
   "outputs": [],
   "source": [
    "dfemo = dfemo.drop(dfemo[dfemo['emotype'] == \"positive\"].sample(frac=frac).index)\n",
    "dfemo"
   ]
  },
  {
   "cell_type": "code",
   "execution_count": null,
   "id": "7e85c8eb",
   "metadata": {},
   "outputs": [],
   "source": [
    "plt.figure(figsize=(10,10))\n",
    "plt.hist(dfemo.emotype,bins=range(0,3), rwidth=0.8,align=\"left\")\n",
    "plt.title('Histogram of Classes')"
   ]
  },
  {
   "cell_type": "code",
   "execution_count": null,
   "id": "895755d9",
   "metadata": {},
   "outputs": [],
   "source": [
    "for i in dfemo.path:\n",
    "    try:\n",
    "        im=Image.open(i)\n",
    "    except:\n",
    "        dfemo=dfemo.drop(dfemo[dfemo.path==i].index)\n",
    "dfemo"
   ]
  },
  {
   "cell_type": "code",
   "execution_count": null,
   "id": "346418e5",
   "metadata": {},
   "outputs": [],
   "source": [
    "imageDB=DataBlock(blocks=(ImageBlock,CategoryBlock),\n",
    "                  get_x=ColReader('path'),\n",
    "                  get_y=ColReader('emotype'),\n",
    "                  item_tfms=Resize(224,ResizeMethod.Pad, PadMode.Zeros))"
   ]
  },
  {
   "cell_type": "code",
   "execution_count": null,
   "id": "cc3ae142",
   "metadata": {},
   "outputs": [],
   "source": [
    "dls = imageDB.dataloaders(dfemo,bs=16)\n",
    "dls.show_batch()"
   ]
  },
  {
   "cell_type": "code",
   "execution_count": null,
   "id": "8e922798",
   "metadata": {},
   "outputs": [],
   "source": [
    "opt_func = partial(ranger)\n",
    "model=xresnet34_deeper\n",
    "learn = vision_learner(dls, model,loss_func=CrossEntropyLossFlat(),pretrained=False, metrics=error_rate,opt_func=opt_func)"
   ]
  },
  {
   "cell_type": "code",
   "execution_count": null,
   "id": "e9bd81de",
   "metadata": {},
   "outputs": [],
   "source": [
    "lr=learn.lr_find(suggest_funcs=(minimum, steep, valley, slide))\n",
    "learn.recorder.plot_lr_find()"
   ]
  },
  {
   "cell_type": "code",
   "execution_count": null,
   "id": "f66c422d",
   "metadata": {},
   "outputs": [],
   "source": [
    "lr=lr[2]"
   ]
  },
  {
   "cell_type": "code",
   "execution_count": null,
   "id": "a9b18719",
   "metadata": {},
   "outputs": [],
   "source": [
    "learn.fit_flat_cos(30,lr,pct_start=0.75, cbs=[SaveModelCallback (monitor='valid_loss', \n",
    "                                                                  comp=None, \n",
    "                                                                  min_delta=0.0,\n",
    "                                                                  fname='artemis1_classification_model_xresnet34_deeper_refined_beforemode_balanced_binary_cross', \n",
    "                                                                  every_epoch=False,\n",
    "                                                                  at_end=False,\n",
    "                                                                  with_opt=False, \n",
    "                                                                  reset_on_fit=True)])"
   ]
  },
  {
   "cell_type": "code",
   "execution_count": null,
   "id": "668f206d",
   "metadata": {},
   "outputs": [],
   "source": [
    "model=learn.load('artemis1_classification_model_xresnet34_deeper_refined_beforemode_balanced_binary_cross')"
   ]
  },
  {
   "cell_type": "code",
   "execution_count": null,
   "id": "3f077679",
   "metadata": {},
   "outputs": [],
   "source": [
    "interp=ClassificationInterpretation(model,dls.valid,model.loss_func)"
   ]
  },
  {
   "cell_type": "code",
   "execution_count": null,
   "id": "3649aa10",
   "metadata": {},
   "outputs": [],
   "source": [
    "interp.plot_confusion_matrix()"
   ]
  },
  {
   "cell_type": "code",
   "execution_count": null,
   "id": "c0827fd6",
   "metadata": {},
   "outputs": [],
   "source": [
    "interp.print_classification_report()"
   ]
  },
  {
   "cell_type": "code",
   "execution_count": null,
   "id": "a336acc1",
   "metadata": {},
   "outputs": [],
   "source": [
    "model.loss_func"
   ]
  },
  {
   "cell_type": "code",
   "execution_count": null,
   "id": "d9789aa9",
   "metadata": {},
   "outputs": [],
   "source": []
  }
 ],
 "metadata": {
  "kernelspec": {
   "display_name": "cupy",
   "language": "python",
   "name": "cupy"
  },
  "language_info": {
   "codemirror_mode": {
    "name": "ipython",
    "version": 3
   },
   "file_extension": ".py",
   "mimetype": "text/x-python",
   "name": "python",
   "nbconvert_exporter": "python",
   "pygments_lexer": "ipython3",
   "version": "3.9.7"
  }
 },
 "nbformat": 4,
 "nbformat_minor": 5
}
